{
 "cells": [
  {
   "cell_type": "code",
   "execution_count": 15,
   "metadata": {},
   "outputs": [
    {
     "name": "stdout",
     "output_type": "stream",
     "text": [
      "Enter marks obtained in Chemistry: 86\n",
      "Enter marks obtained in English: 75\n",
      "Enter marks obtained in Mathematics: 79\n",
      "Enter marks obtained in Physics: 81\n",
      "Enter marks obtained in Urdu: 82\n",
      "\n",
      "Your average score is: 80.4\n",
      "Grade: A\n"
     ]
    }
   ],
   "source": [
    "#A program which takes 5 inputs from user for different subject’s marks, total it and generate \n",
    "#mark sheet using grades:\n",
    "\n",
    "subject_1 = int(input(\"Enter marks obtained in Chemistry: \"))\n",
    "subject_2 = int(input(\"Enter marks obtained in English: \"))\n",
    "subject_3 = int(input(\"Enter marks obtained in Mathematics: \"))\n",
    "subject_4 = int(input(\"Enter marks obtained in Physics: \"))\n",
    "subject_5 = int(input(\"Enter marks obtained in Urdu: \"))\n",
    "\n",
    "avg=(subject_1 + subject_2 + subject_3 + subject_4 + subject_4) / 5\n",
    "\n",
    "print(\"\\nYour average score is:\",avg)\n",
    "\n",
    "if(avg>=90):\n",
    "    print(\"Grade: A*\")\n",
    "elif(avg>=80):\n",
    "    print(\"Grade: A\")\n",
    "elif(avg>=70):\n",
    "    print(\"Grade: B\")\n",
    "elif(avg>=60):\n",
    "    print(\"Grade: C\")\n",
    "elif(avg>=50):\n",
    "    print(\"Grade: D\")\n",
    "else:\n",
    "    print(\"Grade: F\")"
   ]
  },
  {
   "cell_type": "code",
   "execution_count": 23,
   "metadata": {},
   "outputs": [
    {
     "name": "stdout",
     "output_type": "stream",
     "text": [
      "Enter a number: 9\n",
      "\n",
      "Given number is Odd\n"
     ]
    }
   ],
   "source": [
    "#A program which take input from user and identify that the given number is even or odd:\n",
    "\n",
    "number = int(input(\"Enter a number: \"))  \n",
    "\n",
    "x = int(number/2)*2\n",
    "\n",
    "if(x==number):  \n",
    "    print(\"\\nGiven number is Even\")    \n",
    "else:  \n",
    "    print(\"\\nGiven number is Odd\")"
   ]
  },
  {
   "cell_type": "code",
   "execution_count": 25,
   "metadata": {},
   "outputs": [
    {
     "name": "stdout",
     "output_type": "stream",
     "text": [
      "\n",
      "Length of the given list is: 7\n"
     ]
    }
   ],
   "source": [
    "#A program which print the length of the list:\n",
    "\n",
    "list_1 = [13,25,37,49,61,73,85]\n",
    "\n",
    "print(\"\\nLength of the given list is:\",len(list_1))"
   ]
  },
  {
   "cell_type": "code",
   "execution_count": 39,
   "metadata": {},
   "outputs": [
    {
     "data": {
      "text/plain": [
       "18.0"
      ]
     },
     "execution_count": 39,
     "metadata": {},
     "output_type": "execute_result"
    }
   ],
   "source": [
    "#A Python program to sum all the numeric items in a list:\n",
    "\n",
    "list_2 = ['a',3,'s',1,'d',5,'f',2.5,6.5]\n",
    "\n",
    "sum([num_items for num_items in list_2 if isinstance(num_items, int) or isinstance(num_items, float)])"
   ]
  },
  {
   "cell_type": "code",
   "execution_count": 43,
   "metadata": {},
   "outputs": [
    {
     "name": "stdout",
     "output_type": "stream",
     "text": [
      "The largest number in the list is:  76\n"
     ]
    }
   ],
   "source": [
    "#A Python program to get the largest number from a numeric list:\n",
    "\n",
    "list_3 = [8,42,19,76,34,12]\n",
    "\n",
    "print(\"The largest number in the list is: \",max(list_3))"
   ]
  },
  {
   "cell_type": "code",
   "execution_count": 47,
   "metadata": {},
   "outputs": [
    {
     "name": "stdout",
     "output_type": "stream",
     "text": [
      "1\n",
      "1\n",
      "2\n",
      "3\n"
     ]
    }
   ],
   "source": [
    "#A program that prints out all the elements of the list that are less than 5:\n",
    "\n",
    "a = [1, 1, 2, 3, 5, 8, 13, 21, 34, 55, 89]\n",
    "\n",
    "for item in a:\n",
    "    if item < 5:\n",
    "        print(item)"
   ]
  },
  {
   "cell_type": "code",
   "execution_count": null,
   "metadata": {},
   "outputs": [],
   "source": []
  }
 ],
 "metadata": {
  "kernelspec": {
   "display_name": "Python 3",
   "language": "python",
   "name": "python3"
  },
  "language_info": {
   "codemirror_mode": {
    "name": "ipython",
    "version": 3
   },
   "file_extension": ".py",
   "mimetype": "text/x-python",
   "name": "python",
   "nbconvert_exporter": "python",
   "pygments_lexer": "ipython3",
   "version": "3.7.4"
  }
 },
 "nbformat": 4,
 "nbformat_minor": 2
}
