{
 "cells": [
  {
   "cell_type": "code",
   "execution_count": 35,
   "metadata": {
    "scrolled": true
   },
   "outputs": [
    {
     "name": "stdout",
     "output_type": "stream",
     "text": [
      "Select operation:-\n",
      "1. Add\n",
      "2. Subtract\n",
      "3. Multiply\n",
      "4. Divide\n",
      "5. Power\n",
      "\n",
      "Enter choice(1,2,3,4,5): 5\n",
      "\n",
      "Enter first number: 12\n",
      "\n",
      "Enter the value of power: 2\n",
      "12.0 ^ 2.0 = 144.0\n"
     ]
    }
   ],
   "source": [
    "#A calculator using Python with addition , subtraction , multiplication , division and power:\n",
    "\n",
    "def add(x,y):\n",
    "    return x + y\n",
    "def subtract(x,y):\n",
    "    return x - y\n",
    "def multiply(x,y):\n",
    "    return x * y\n",
    "def divide(x,y):\n",
    "    return x / y\n",
    "def power(x,power_2):\n",
    "    return x * x\n",
    "\n",
    "print(\"Select operation:-\")\n",
    "print(\"1. Add\")\n",
    "print(\"2. Subtract\")\n",
    "print(\"3. Multiply\")\n",
    "print(\"4. Divide\")\n",
    "print(\"5. Power\")\n",
    " \n",
    "choice = input(\"\\nEnter choice(1,2,3,4,5): \")\n",
    "\n",
    "num1 = float(input(\"\\nEnter first number: \"))\n",
    "\n",
    "if choice == '5':\n",
    "    float(input(\"\\nEnter the value of power: \"))\n",
    "        #input 2 as value of power\n",
    "else:\n",
    "    num2 = float(input(\"\\nEnter second number: \"))\n",
    "if choice == '1':\n",
    "    print(num1,\"+\",num2,\"=\", add(num1,num2))\n",
    "elif choice == '2':\n",
    "    print(num1,\"-\",num2,\"=\", subtract(num1,num2))\n",
    "elif choice == '3':\n",
    "    print(num1,\"*\",num2,\"=\", multiply(num1,num2))\n",
    "elif choice == '4':\n",
    "    print(num1,\"/\",num2,\"=\", divide(num1,num2))\n",
    "elif choice == '5':\n",
    "    print(num1,\"^\",num2,\"=\", power(num1,num2))\n",
    "else:\n",
    "    print(\"\\nInvalid input\")"
   ]
  },
  {
   "cell_type": "code",
   "execution_count": 3,
   "metadata": {
    "scrolled": true
   },
   "outputs": [
    {
     "name": "stdout",
     "output_type": "stream",
     "text": [
      "Numeric values from the list is:  9\n",
      "Numeric values from the list is:  35.7\n",
      "Numeric values from the list is:  999\n",
      "Numeric values from the list is:  273.5\n"
     ]
    }
   ],
   "source": [
    "#A program to check if there is any numeric value in list using for loop:\n",
    "\n",
    "list = [\"Ali\",\"Sana\",9,\"College\",35.7,999,\"Laptop\",273.5]\n",
    "for i in range(0,len(list)):\n",
    "        if type(list[i]) == float or type(list[i]) == int:\n",
    "            numeric = print(\"Numeric values from the list is: \",list[i])"
   ]
  },
  {
   "cell_type": "code",
   "execution_count": 41,
   "metadata": {},
   "outputs": [
    {
     "name": "stdout",
     "output_type": "stream",
     "text": [
      "{'T': 10, 'U': 20}\n",
      "\n",
      "Please enter a Key : V\n",
      "Please enter a Value for your Key : 30\n",
      "\n",
      "Updated Dictionary =  {'T': 10, 'U': 20, 'V': '30'}\n"
     ]
    }
   ],
   "source": [
    "#A Python script to add a key to a dictionary:\n",
    "\n",
    "my_dictionary = {'T':10, 'U':20}\n",
    "print(my_dictionary)\n",
    "\n",
    "key = input(\"\\nPlease enter a Key : \")\n",
    "value = input(\"Please enter a Value for your Key : \")\n",
    "\n",
    "my_dictionary.update({key:value})\n",
    "print(\"\\nUpdated Dictionary = \", my_dictionary)"
   ]
  },
  {
   "cell_type": "code",
   "execution_count": 45,
   "metadata": {},
   "outputs": [
    {
     "name": "stdout",
     "output_type": "stream",
     "text": [
      "300\n"
     ]
    }
   ],
   "source": [
    "#A Python program to sum all the numeric items in a dictionary:\n",
    "\n",
    "dictionary_2 = {'data_1':160, 'data_2':50, 'data_3':90}\n",
    "\n",
    "print(sum(dictionary_2.values()))"
   ]
  },
  {
   "cell_type": "code",
   "execution_count": 53,
   "metadata": {},
   "outputs": [
    {
     "name": "stdout",
     "output_type": "stream",
     "text": [
      "Duplicate values in the list are: [3, 5]\n"
     ]
    }
   ],
   "source": [
    "#A program to identify duplicate values from list:\n",
    "\n",
    "list_1 = [3,5,1,3,9,7,5]\n",
    "\n",
    "print(\"Duplicate values in the list are:\",Repeat(list_1))"
   ]
  },
  {
   "cell_type": "code",
   "execution_count": 59,
   "metadata": {},
   "outputs": [
    {
     "name": "stdout",
     "output_type": "stream",
     "text": [
      "Key is not present in the dictionary\n"
     ]
    }
   ],
   "source": [
    "#A Python script to check if a given key already exists in a dictionary:\n",
    "\n",
    "dictionary_3 = {0:50, 1:100, 2:150, 3:200, 4:250, 5:300}\n",
    "\n",
    "def is_key_present(x):\n",
    "    if x in d:\n",
    "        print('Key is present in the dictionary')\n",
    "    else:\n",
    "        print('Key is not present in the dictionary')\n",
    "        \n",
    "is_key_present(9)\n"
   ]
  },
  {
   "cell_type": "code",
   "execution_count": null,
   "metadata": {},
   "outputs": [],
   "source": []
  }
 ],
 "metadata": {
  "kernelspec": {
   "display_name": "Python 3",
   "language": "python",
   "name": "python3"
  },
  "language_info": {
   "codemirror_mode": {
    "name": "ipython",
    "version": 3
   },
   "file_extension": ".py",
   "mimetype": "text/x-python",
   "name": "python",
   "nbconvert_exporter": "python",
   "pygments_lexer": "ipython3",
   "version": "3.7.4"
  }
 },
 "nbformat": 4,
 "nbformat_minor": 2
}
