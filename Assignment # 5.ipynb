{
 "cells": [
  {
   "cell_type": "code",
   "execution_count": 11,
   "metadata": {},
   "outputs": [
    {
     "name": "stdout",
     "output_type": "stream",
     "text": [
      "1\n"
     ]
    }
   ],
   "source": [
    "\"\"\"\n",
    "    Write a Python function to calculate the factorial of a number (a non-negative integer). The function accepts \n",
    "    the number as an argument\n",
    "                                \"\"\"\n",
    "\n",
    "def factorial(n):\n",
    "    num = 1\n",
    "    while n > 0:\n",
    "        num *= n\n",
    "        n -= 1\n",
    "    return num\n",
    "\n",
    "print(factorial(1))"
   ]
  },
  {
   "cell_type": "code",
   "execution_count": 19,
   "metadata": {},
   "outputs": [
    {
     "name": "stdout",
     "output_type": "stream",
     "text": [
      "(5, 36)\n"
     ]
    }
   ],
   "source": [
    "\"\"\"\n",
    "    Write a Python function that accepts a string and calculate the number of upper case letters and lower case \n",
    "    letters\n",
    "            \"\"\"\n",
    "\n",
    "def caseCLC(string):\n",
    "    uppers = 0\n",
    "    lowers = 0\n",
    "    for char in string:\n",
    "        if char.islower():\n",
    "            lowers += 1\n",
    "        elif char.isupper():\n",
    "            uppers += 1\n",
    "    return uppers, lowers\n",
    "\n",
    "print(caseCLC(\"The Marvel movie I liked the most is, Thor:Ragnarok\"))"
   ]
  },
  {
   "cell_type": "code",
   "execution_count": 25,
   "metadata": {},
   "outputs": [
    {
     "name": "stdout",
     "output_type": "stream",
     "text": [
      "[42, 86, 114, 260]\n"
     ]
    }
   ],
   "source": [
    "\"\"\"\n",
    "    Write a Python function to print the even numbers from a given list\n",
    "                                                                        \"\"\"\n",
    "\n",
    "def evenIndex(nums):\n",
    "    li = []\n",
    "    for num in range(0,len(nums)):\n",
    "        if nums[num] % 2 == 0:\n",
    "            li.append(nums[num])\n",
    "    return li\n",
    "    \n",
    "print(evenIndex([9, 42, 39, 86, 114, 55, 73, 260]))"
   ]
  },
  {
   "cell_type": "code",
   "execution_count": 10,
   "metadata": {},
   "outputs": [
    {
     "name": "stdout",
     "output_type": "stream",
     "text": [
      "Enter any word to test if it's a palindrome or not: civic\n",
      "You entered a palindrome.\n"
     ]
    }
   ],
   "source": [
    "\"\"\"\n",
    "    Write a Python function that checks whether a passed string is palindrome or not. Note: A palindrome is a \n",
    "    word, phrase, or sequence that reads the same backward as forward, e.g., madam\n",
    "                                                                                    \"\"\"\n",
    "\n",
    "def palindromeTEST(word):\n",
    "    reverse = ''.join(reversed(word))\n",
    "    if word == reverse and word != \"\":\n",
    "        return \"You entered a palindrome.\"\n",
    "    else:\n",
    "        return \"It's not a palindrome.\"\n",
    "\n",
    "check_palindrome = input(\"Enter any word to test if it's a palindrome or not: \")\n",
    "print(palindromeTEST(check_palindrome))"
   ]
  },
  {
   "cell_type": "code",
   "execution_count": 19,
   "metadata": {},
   "outputs": [
    {
     "name": "stdout",
     "output_type": "stream",
     "text": [
      "Enter any number to check if it's a prime number or not: 9\n",
      "It is not a prime number.\n",
      "3 times 3 is 9\n"
     ]
    }
   ],
   "source": [
    "\"\"\"\n",
    "    Write a Python function that takes a number as a parameter and check the number is prime or not\n",
    "                                                                                                    \"\"\"\n",
    "\n",
    "def isprime():\n",
    "    nums = int(input(\"Enter any number to check if it's a prime number or not: \"))\n",
    "    return prime(nums)\n",
    "\n",
    "def prime(nums):\n",
    "    if nums > 1:\n",
    "        for num in range(2,nums):\n",
    "            if (nums % num) == 0:\n",
    "                print(\"It is not a prime number.\")\n",
    "                print(num,\"times\",nums//num, \"is\", nums)\n",
    "                break\n",
    "        else:\n",
    "            print(\"It is a prime number.\")\n",
    "\n",
    "isprime()"
   ]
  },
  {
   "cell_type": "code",
   "execution_count": 29,
   "metadata": {},
   "outputs": [
    {
     "name": "stdout",
     "output_type": "stream",
     "text": [
      "\n",
      "Enter an item to add in the shopping list: \n",
      "or Press [ENTER] to finish: \n",
      "Milk\n",
      "\n",
      "Enter an item to add in the shopping list: \n",
      "or Press [ENTER] to finish: \n",
      "Bread\n",
      "\n",
      "Enter an item to add in the shopping list: \n",
      "or Press [ENTER] to finish: \n",
      "Eggs\n",
      "\n",
      "Enter an item to add in the shopping list: \n",
      "or Press [ENTER] to finish: \n",
      "\n",
      "\n",
      "Items which user bought are:\n",
      "Milk\n",
      "Bread\n",
      "Eggs\n",
      "\n"
     ]
    }
   ],
   "source": [
    "\"\"\"\n",
    "    Suppose a customer is shopping in a market and you need to print all the items which user bought from market. \n",
    "    Write a function which accepts the multiple arguments of user shopping list and print all the items which user \n",
    "    bought from market\n",
    "                        \"\"\"\n",
    "\n",
    "def boughtITEM():\n",
    "    cart = []\n",
    "    while True:                                  \n",
    "        carts = input(\"\\nEnter an item to add in the shopping list: \\nor Press [ENTER] to finish: \\n\")\n",
    "        if carts == \"\":\n",
    "            break\n",
    "        cart.append(carts)\n",
    "    item_list = \"\"\n",
    "    for item in range(0,len(cart)):\n",
    "        item_list = item_list + cart[item].title() + \"\\n\"\n",
    "    print(\"\\nItems which user bought are:\\n\"+item_list)\n",
    "\n",
    "boughtITEM()"
   ]
  },
  {
   "cell_type": "code",
   "execution_count": null,
   "metadata": {},
   "outputs": [],
   "source": []
  }
 ],
 "metadata": {
  "kernelspec": {
   "display_name": "Python 3",
   "language": "python",
   "name": "python3"
  },
  "language_info": {
   "codemirror_mode": {
    "name": "ipython",
    "version": 3
   },
   "file_extension": ".py",
   "mimetype": "text/x-python",
   "name": "python",
   "nbconvert_exporter": "python",
   "pygments_lexer": "ipython3",
   "version": "3.7.4"
  }
 },
 "nbformat": 4,
 "nbformat_minor": 2
}
