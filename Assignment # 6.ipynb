{
 "cells": [
  {
   "cell_type": "markdown",
   "metadata": {},
   "source": [
    "\n",
    "'''\n",
    "    Question 1:\n",
    "        Define Object Oriented Programming Language?\n",
    "                                                       '''\n",
    "\n",
    "\n",
    "    Answer:\n",
    "        Object-oriented programming (OOP) is a programming language model in which programs are organized around data, \n",
    "        or objects, rather than functions and logic. An object can be defined as a data field that has unique attributes \n",
    "        and behavior.\n"
   ]
  },
  {
   "cell_type": "markdown",
   "metadata": {},
   "source": [
    "\n",
    "'''\n",
    "    Question 2:\n",
    "        List down the Benefits of OOP?\n",
    "                                         '''\n",
    "\n",
    "\n",
    "    Answer:\n",
    "       * It provides a clear modular structure for programs which makes it good for defining abstract datatypes in which                     implementation details are hidden.\n",
    "        \n",
    "        \n",
    "       * Objects can also be reused within an across applications. The reuse of software also lowers the cost of development. More effort is put into the object-oriented analysis and design, which lowers the overall cost of development.\n",
    "\n",
    "\n",
    "       * It makes software easier to maintain. Since the design is modular, part of the system can be updated in case of issues without a need to make large-scale changes.\n",
    "\n",
    "\n",
    "       * Reuse also enables faster development. Object-oriented programming languages come with rich libraries of objects, and code developed during projects is also reusable in future projects.\n",
    "\n",
    "\n",
    "       * It provides a good framework for code libraries where the supplied software components can be easily adapted and modified by the programmer. This is particularly useful for developing graphical user interfaces.\n",
    "        "
   ]
  },
  {
   "cell_type": "markdown",
   "metadata": {},
   "source": [
    "\n",
    "'''\n",
    "    Question 3:\n",
    "        Differentiate between function and method?\n",
    "                                                    '''\n",
    "         \n",
    "         \n",
    "    Answer:\n",
    "        * Function:\n",
    "            A function is a piece of code that is called by name. It can be passed data to operate on (i.e. the parameters) and can optionally return data (the return value). All data that is passed to a function is explicitly passed.\n",
    "            \n",
    "            \n",
    "        * Method:\n",
    "            A method is a piece of code that is called by a name that is associated with an object. In most respects it is identical to a function except for two key differences:\n",
    "\n",
    "                * A method is implicitly passed the object on which it was called.\n",
    "                \n",
    "                * A method is able to operate on data that is contained within the class (remembering that an object is an instance of a class - the class is the definition, the object is an instance of that data).\n"
   ]
  },
  {
   "cell_type": "markdown",
   "metadata": {},
   "source": [
    "\n",
    "'''\n",
    "    Question 4:\n",
    "        Define the following terms:\n",
    "                1. Class\n",
    "                2. Object\n",
    "                3. Attribute\n",
    "                4. Behavior\n",
    "                                    '''\n",
    "                                    \n",
    "                                    \n",
    "      Answer:\n",
    "           1. Class:\n",
    "                   A class is a code template for creating objects. Objects have member variables and have behaviour associated with them. In python a class is created by the keyword class.\n",
    "                   \n",
    "                   \n",
    "           2. Object:\n",
    "                   An object is created using the constructor of the class. This object will then be called the instance of the class.\n",
    "                   \n",
    "                   \n",
    "           3. Attribute:\n",
    "                   A class by itself is of no use unless there is some functionality associated with it. Functionalities are defined by setting attributes, which act as containers for data and functions related to those attributes. Those functions are called methods.\n",
    "                   \n",
    "                   \n",
    "           4. Behavior:\n",
    "                   The behavior of an object is defined by its methods, which are the functions and subroutines defined within the object class. Without class methods, a class would simply be a structure. Methods determine what type of functionality a class has, how it modifies its data, and its overall behavior.\n"
   ]
  },
  {
   "cell_type": "code",
   "execution_count": 17,
   "metadata": {},
   "outputs": [
    {
     "name": "stdout",
     "output_type": "stream",
     "text": [
      "Car name: Mitsubishi Lancer\n",
      "Car color: White\n",
      "Car model: 2009\n",
      "Car seats: 4\n",
      "Car average: 14 kmpl\n"
     ]
    }
   ],
   "source": [
    "class car():\n",
    "    def __init__(self, name, model, color):\n",
    "        self.name = name\n",
    "        self.model = model\n",
    "        self.color = color\n",
    "        self.seats = 4\n",
    "        self.average = \"14 kmpl\"\n",
    "\n",
    "\n",
    "car1 = car(\"Mitsubishi Lancer\", 2009, \"White\")\n",
    "\n",
    "print(\"Car name: {}\".format(car1.name))\n",
    "print(\"Car color: {}\".format(car1.color))\n",
    "print(\"Car model: {}\".format(car1.model))\n",
    "print(\"Car seats: {}\".format(car1.seats))\n",
    "print(\"Car average: {}\".format(car1.average))"
   ]
  },
  {
   "cell_type": "code",
   "execution_count": null,
   "metadata": {},
   "outputs": [],
   "source": []
  }
 ],
 "metadata": {
  "kernelspec": {
   "display_name": "Python 3",
   "language": "python",
   "name": "python3"
  },
  "language_info": {
   "codemirror_mode": {
    "name": "ipython",
    "version": 3
   },
   "file_extension": ".py",
   "mimetype": "text/x-python",
   "name": "python",
   "nbconvert_exporter": "python",
   "pygments_lexer": "ipython3",
   "version": "3.7.4"
  }
 },
 "nbformat": 4,
 "nbformat_minor": 2
}
