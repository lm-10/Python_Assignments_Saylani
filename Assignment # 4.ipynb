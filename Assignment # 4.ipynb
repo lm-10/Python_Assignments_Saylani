{
 "cells": [
  {
   "cell_type": "code",
   "execution_count": 23,
   "metadata": {},
   "outputs": [
    {
     "name": "stdout",
     "output_type": "stream",
     "text": [
      "dict_items([('first_name', 'Khuzaima'), ('last_name', 'Aziz'), ('age', 19), ('city', 'Karachi')])\n",
      "\n",
      "\n",
      "dict_items([('first_name', 'Khuzaima'), ('last_name', 'Aziz'), ('age', 19), ('city', 'Karachi'), ('qualification', 'Low Academic Level')])\n",
      "\n",
      "\n",
      "dict_items([('first_name', 'Khuzaima'), ('last_name', 'Aziz'), ('age', 19), ('city', 'Karachi'), ('qualification', 'High Academic Level')])\n",
      "\n",
      "\n",
      "dict_items([('first_name', 'Khuzaima'), ('last_name', 'Aziz'), ('age', 19), ('city', 'Karachi')])\n"
     ]
    }
   ],
   "source": [
    "\"\"\" \n",
    "    Use a dictionary to store information about a person you know. Store their first name, last name, age, and\n",
    "    the city in which they live. You should have keys such as first_name, last_name, age, and city. Print each \n",
    "    piece of information stored in your dictionary. Add a new key value pair about qualification then update the \n",
    "    qualification value to high academic level then delete it\n",
    "                                                                \"\"\"\n",
    "\n",
    "info = {\"first_name\": \"Khuzaima\", \"last_name\": \"Aziz\", \n",
    "        \"age\": 19, \"city\":\"Karachi\"}\n",
    "print(info.items())\n",
    "print(\"\\n\")\n",
    "\n",
    "info[\"qualification\"] = \"Low Academic Level\"\n",
    "print(info.items())\n",
    "print(\"\\n\")\n",
    "\n",
    "info.update({\"qualification\": \"High Academic Level\"})\n",
    "print(info.items())\n",
    "print(\"\\n\")\n",
    "\n",
    "info.pop(\"qualification\")\n",
    "print(info.items())"
   ]
  },
  {
   "cell_type": "code",
   "execution_count": 9,
   "metadata": {
    "scrolled": true
   },
   "outputs": [
    {
     "name": "stdout",
     "output_type": "stream",
     "text": [
      "Barcelona\n",
      "{'Country': 'Spain', 'Population': '5.515 million', 'Fact': 'Barcelona is the first and only city that received a Royal Gold Medal for architecture in 1999'}\n",
      "\n",
      "\n",
      "Istanbul\n",
      "{'Country': 'Turkey', 'Population': '15.07 million', 'Fact': 'Istanbul is the only city in the world which is both in Europe and Asia geographicaly'}\n",
      "\n",
      "\n",
      "Toronto\n",
      "{'Country': 'Canada', 'Population': '2.93 million', 'Fact': 'Toronto ranks second as the world’s most business competitive global city'}\n",
      "\n",
      "\n"
     ]
    }
   ],
   "source": [
    "\"\"\"\n",
    "    Make a dictionary called cities. Use the names of three cities as keys in your dictionary. Create a \n",
    "    dictionary of information about each city and include the country that the city is in, its approximate \n",
    "    population, and one fact about that city. The keys for each city’s dictionary should be something like \n",
    "    country, population, and fact. Print the name of each city and all of the information you have stored \n",
    "    about it\n",
    "                \"\"\"\n",
    "\n",
    "cities = {\"Barcelona\"\n",
    ":{\"Country\":\"Spain\"\n",
    ",\"Population\":\"5.515 million\"\n",
    ",\"Fact\":\"Barcelona is the first and only city that received a Royal Gold Medal for architecture in 1999\"\n",
    "},\n",
    "\"Istanbul\":\n",
    "{\"Country\":\"Turkey\"\n",
    ",\"Population\":\"15.07 million\"\n",
    ",\"Fact\":\"Istanbul is the only city in the world which is both in Europe and Asia geographicaly\"\n",
    "},\n",
    "\"Toronto\"\n",
    ":{\"Country\":\"Canada\"\n",
    ",\"Population\":\"2.93 million\"\n",
    ",\"Fact\":\"Toronto ranks second as the world’s most business competitive global city\"\n",
    "}\n",
    "}\n",
    "\n",
    "for city in cities.keys():\n",
    "    print(city)\n",
    "    print(cities[city])\n",
    "    print(\"\\n\")"
   ]
  },
  {
   "cell_type": "code",
   "execution_count": 15,
   "metadata": {},
   "outputs": [
    {
     "name": "stdout",
     "output_type": "stream",
     "text": [
      "Enter Your Age: 19\n",
      "\n",
      "The cost of your ticket is $15\n"
     ]
    }
   ],
   "source": [
    "\"\"\"\n",
    "    A movie theater charges different ticket prices depending on a person’s age. If a person is under the \n",
    "    age of 3, the ticket is free; if they are between 3 and 12, the ticket is $10; and if they are over age \n",
    "    12, the ticket is $15. Write a loop in which you ask users their age, and then tell them the cost of their \n",
    "    movie ticket\n",
    "                    \"\"\"\n",
    "\n",
    "age = int(input(\"Enter Your Age: \"))\n",
    "\n",
    "if age <= 3:\n",
    "    print(\"\\nYour ticket is free\")\n",
    "elif age <= 12 and age >= 4:\n",
    "    print(\"\\nThe cost of your ticket is $10\")\n",
    "elif age > 12:\n",
    "    print(\"\\nThe cost of your ticket is $15\")\n",
    "else:\n",
    "    print(\"\\nInvalid input!\")"
   ]
  },
  {
   "cell_type": "code",
   "execution_count": 21,
   "metadata": {},
   "outputs": [
    {
     "name": "stdout",
     "output_type": "stream",
     "text": [
      "One of my favorite book is, Wuthering Heights\n"
     ]
    }
   ],
   "source": [
    "\"\"\"\n",
    "    Write a function called favorite_book() that accepts one parameter, title. The function should print a \n",
    "    message, such as One of my favorite books is Alice in Wonderland. Call the function, making sure to include \n",
    "    a book title as an argument in the function call\n",
    "                                                        \"\"\"\n",
    "\n",
    "def favorite_book(title):\n",
    "    print(\"One of my favorite book is,\", title) \n",
    "\n",
    "favorite_book(\"Wuthering Heights\")"
   ]
  },
  {
   "cell_type": "code",
   "execution_count": 9,
   "metadata": {},
   "outputs": [
    {
     "name": "stdout",
     "output_type": "stream",
     "text": [
      "\n",
      "Can you guess the hidden number? \n",
      "Take a guess: 30\n",
      "Lower\n",
      "\n",
      "Can you guess the hidden number? \n",
      "Take a guess: 9\n",
      "Lower\n",
      "\n",
      "Can you guess the hidden number? \n",
      "Take a guess: 1\n",
      "\n",
      "You guessed it! The number was 1\n",
      "Amazing! You did it in last attempt\n"
     ]
    }
   ],
   "source": [
    "\"\"\"\n",
    "    Guess the number game\n",
    "Write a program which randomly generate a number between 1 to 30 and ask the user in input field to guess the \n",
    "correct number. Give three chances to user guess the number and also give hint to user if hidden number is \n",
    "greater or smaller than the number he given to input field\n",
    "                                                            \"\"\"\n",
    "\n",
    "\n",
    "import random\n",
    " \n",
    "hidden_number = random.randrange(1,2)\n",
    "chances = 3\n",
    "\n",
    "for chance in range(chances):\n",
    "    guess = int(input(\"\\nCan you guess the hidden number? \\nTake a guess: \"))\n",
    "    if hidden_number == guess:\n",
    "        print(\"\\nYou guessed it! The number was\",hidden_number)\n",
    "        if chance >= 2:\n",
    "            print(\"Amazing! You did it in last attempt\")\n",
    "            break\n",
    "        print(\"With\", chances - (chance+1), \"turn remaining\")\n",
    "        break\n",
    "    elif hidden_number > guess:\n",
    "        print(\"Higher\")\n",
    "    elif hidden_number < guess:\n",
    "        print(\"Lower\")\n",
    "\n",
    "if guess != hidden_number:\n",
    "    print()\n",
    "    print('Sorry you reached the maximum number of tries')\n",
    "    print('The hidden number was', hidden_number)"
   ]
  },
  {
   "cell_type": "code",
   "execution_count": null,
   "metadata": {},
   "outputs": [],
   "source": [
    " "
   ]
  }
 ],
 "metadata": {
  "kernelspec": {
   "display_name": "Python 3",
   "language": "python",
   "name": "python3"
  },
  "language_info": {
   "codemirror_mode": {
    "name": "ipython",
    "version": 3
   },
   "file_extension": ".py",
   "mimetype": "text/x-python",
   "name": "python",
   "nbconvert_exporter": "python",
   "pygments_lexer": "ipython3",
   "version": "3.7.4"
  }
 },
 "nbformat": 4,
 "nbformat_minor": 2
}
