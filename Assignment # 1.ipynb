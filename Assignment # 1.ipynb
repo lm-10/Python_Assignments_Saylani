{
 "cells": [
  {
   "cell_type": "code",
   "execution_count": 6,
   "metadata": {},
   "outputs": [
    {
     "name": "stdout",
     "output_type": "stream",
     "text": [
      "Twinkle, twinkle, little star,\n",
      "      How I wonder what you are!\n",
      "            Up above the world so high,\n",
      "            Like a diamond in the sky.\n",
      "Twinkle, twinkle, little star,\n",
      "      How I wonder what you are\n"
     ]
    }
   ],
   "source": [
    "#A Python program to print the following string in a specific format:\n",
    "\n",
    "print(\"Twinkle, twinkle, little star,\")\n",
    "print(\"      How I wonder what you are!\")\n",
    "print(\"            Up above the world so high,\")\n",
    "print(\"            Like a diamond in the sky.\")\n",
    "print(\"Twinkle, twinkle, little star,\")\n",
    "print(\"      How I wonder what you are\");"
   ]
  },
  {
   "cell_type": "code",
   "execution_count": 11,
   "metadata": {},
   "outputs": [
    {
     "name": "stdout",
     "output_type": "stream",
     "text": [
      "3.7.4\n"
     ]
    }
   ],
   "source": [
    "#A Python program to get the Python version you are using:\n",
    "\n",
    "import platform\n",
    "\n",
    "print(platform.python_version());"
   ]
  },
  {
   "cell_type": "code",
   "execution_count": 13,
   "metadata": {},
   "outputs": [
    {
     "name": "stdout",
     "output_type": "stream",
     "text": [
      "Current date and time: \n",
      "03rd November, 2019 ; 11:21:58\n"
     ]
    }
   ],
   "source": [
    "#A Python program to display the current date and time:\n",
    "\n",
    "import datetime\n",
    "\n",
    "now = datetime.datetime.now()\n",
    "\n",
    "print(\"Current date and time: \")\n",
    "print(now.strftime('%drd %B, %Y ; %H:%M:%S'));"
   ]
  },
  {
   "cell_type": "code",
   "execution_count": 15,
   "metadata": {},
   "outputs": [
    {
     "name": "stdout",
     "output_type": "stream",
     "text": [
      "Enter the Radius of the Circle: 7\n",
      " \n",
      "Area of the Circle =  153.93804002589985\n"
     ]
    }
   ],
   "source": [
    "#A Python program which accepts the radius of a circle from the user and compute the area:\n",
    "\n",
    "from math import pi\n",
    "\n",
    "π = pi\n",
    "Radius = float(input(\"Enter the Radius of the Circle: \"))\n",
    "\n",
    "#Area of circle is given by formula: Area = Pi * Square of Radius(A=π*r^2)\n",
    "Area = π * Radius * Radius\n",
    "\n",
    "print(\" \\nArea of the Circle = \", Area);"
   ]
  },
  {
   "cell_type": "code",
   "execution_count": 19,
   "metadata": {},
   "outputs": [
    {
     "name": "stdout",
     "output_type": "stream",
     "text": [
      "Enter your First Name: Captain\n",
      "Enter your Last Name: America\n",
      "America Captain\n"
     ]
    }
   ],
   "source": [
    "#A Python program which accepts the user's first and last name and print them in reverse order \n",
    "#with a space between them:\n",
    "\n",
    "first_name = input(\"Enter your First Name: \")\n",
    "\n",
    "last_name = input(\"Enter your Last Name: \")\n",
    "\n",
    "print(last_name + \" \" + first_name);"
   ]
  },
  {
   "cell_type": "code",
   "execution_count": 21,
   "metadata": {},
   "outputs": [
    {
     "name": "stdout",
     "output_type": "stream",
     "text": [
      "First value is: 1\n",
      "Second value is: 8\n",
      "Addition of your two inputs is:  9\n"
     ]
    }
   ],
   "source": [
    "#A python program which takes two inputs from user and print them addition:\n",
    "\n",
    "p = int(input(\"First value is: \"))\n",
    "\n",
    "q = int(input(\"Second value is: \"))\n",
    "\n",
    "r = p + q\n",
    "\n",
    "print(\"Addition of your two inputs is: \", r);"
   ]
  },
  {
   "cell_type": "code",
   "execution_count": null,
   "metadata": {},
   "outputs": [],
   "source": []
  }
 ],
 "metadata": {
  "kernelspec": {
   "display_name": "Python 3",
   "language": "python",
   "name": "python3"
  },
  "language_info": {
   "codemirror_mode": {
    "name": "ipython",
    "version": 3
   },
   "file_extension": ".py",
   "mimetype": "text/x-python",
   "name": "python",
   "nbconvert_exporter": "python",
   "pygments_lexer": "ipython3",
   "version": "3.7.4"
  }
 },
 "nbformat": 4,
 "nbformat_minor": 2
}
